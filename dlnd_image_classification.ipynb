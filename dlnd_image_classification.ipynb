{
 "cells": [
  {
   "cell_type": "markdown",
   "metadata": {
    "collapsed": true,
    "deletable": true,
    "editable": true
   },
   "source": [
    "# Image Classification\n",
    "In this project, you'll classify images from the [CIFAR-10 dataset](https://www.cs.toronto.edu/~kriz/cifar.html).  The dataset consists of airplanes, dogs, cats, and other objects. You'll preprocess the images, then train a convolutional neural network on all the samples. The images need to be normalized and the labels need to be one-hot encoded.  You'll get to apply what you learned and build a convolutional, max pooling, dropout, and fully connected layers.  At the end, you'll get to see your neural network's predictions on the sample images.\n",
    "## Get the Data\n",
    "Run the following cell to download the [CIFAR-10 dataset for python](https://www.cs.toronto.edu/~kriz/cifar-10-python.tar.gz)."
   ]
  },
  {
   "cell_type": "code",
   "execution_count": 1,
   "metadata": {
    "collapsed": false,
    "deletable": true,
    "editable": true
   },
   "outputs": [
    {
     "name": "stderr",
     "output_type": "stream",
     "text": [
      "CIFAR-10 Dataset: 171MB [02:04, 1.37MB/s]                              \n"
     ]
    },
    {
     "name": "stdout",
     "output_type": "stream",
     "text": [
      "All files found!\n"
     ]
    }
   ],
   "source": [
    "\"\"\"\n",
    "DON'T MODIFY ANYTHING IN THIS CELL THAT IS BELOW THIS LINE\n",
    "\"\"\"\n",
    "from urllib.request import urlretrieve\n",
    "from os.path import isfile, isdir\n",
    "from tqdm import tqdm\n",
    "import problem_unittests as tests\n",
    "import tarfile\n",
    "\n",
    "cifar10_dataset_folder_path = 'cifar-10-batches-py'\n",
    "\n",
    "class DLProgress(tqdm):\n",
    "    last_block = 0\n",
    "\n",
    "    def hook(self, block_num=1, block_size=1, total_size=None):\n",
    "        self.total = total_size\n",
    "        self.update((block_num - self.last_block) * block_size)\n",
    "        self.last_block = block_num\n",
    "\n",
    "if not isfile('cifar-10-python.tar.gz'):\n",
    "    with DLProgress(unit='B', unit_scale=True, miniters=1, desc='CIFAR-10 Dataset') as pbar:\n",
    "        urlretrieve(\n",
    "            'https://www.cs.toronto.edu/~kriz/cifar-10-python.tar.gz',\n",
    "            'cifar-10-python.tar.gz',\n",
    "            pbar.hook)\n",
    "\n",
    "if not isdir(cifar10_dataset_folder_path):\n",
    "    with tarfile.open('cifar-10-python.tar.gz') as tar:\n",
    "        tar.extractall()\n",
    "        tar.close()\n",
    "\n",
    "\n",
    "tests.test_folder_path(cifar10_dataset_folder_path)"
   ]
  },
  {
   "cell_type": "markdown",
   "metadata": {
    "deletable": true,
    "editable": true
   },
   "source": [
    "## Explore the Data\n",
    "The dataset is broken into batches to prevent your machine from running out of memory.  The CIFAR-10 dataset consists of 5 batches, named `data_batch_1`, `data_batch_2`, etc.. Each batch contains the labels and images that are one of the following:\n",
    "* airplane\n",
    "* automobile\n",
    "* bird\n",
    "* cat\n",
    "* deer\n",
    "* dog\n",
    "* frog\n",
    "* horse\n",
    "* ship\n",
    "* truck\n",
    "\n",
    "Understanding a dataset is part of making predictions on the data.  Play around with the code cell below by changing the `batch_id` and `sample_id`. The `batch_id` is the id for a batch (1-5). The `sample_id` is the id for a image and label pair in the batch.\n",
    "\n",
    "Ask yourself \"What are all possible labels?\", \"What is the range of values for the image data?\", \"Are the labels in order or random?\".  Answers to questions like these will help you preprocess the data and end up with better predictions."
   ]
  },
  {
   "cell_type": "code",
   "execution_count": 5,
   "metadata": {
    "collapsed": false,
    "deletable": true,
    "editable": true
   },
   "outputs": [
    {
     "name": "stdout",
     "output_type": "stream",
     "text": [
      "\n",
      "Stats of batch 1:\n",
      "Samples: 10000\n",
      "Label Counts: {0: 1005, 1: 974, 2: 1032, 3: 1016, 4: 999, 5: 937, 6: 1030, 7: 1001, 8: 1025, 9: 981}\n",
      "First 20 Labels: [6, 9, 9, 4, 1, 1, 2, 7, 8, 3, 4, 7, 7, 2, 9, 9, 9, 3, 2, 6]\n",
      "\n",
      "Example of Image 5:\n",
      "Image - Min Value: 0 Max Value: 252\n",
      "Image - Shape: (32, 32, 3)\n",
      "Label - Label Id: 1 Name: automobile\n"
     ]
    },
    {
     "data": {
      "image/png": "[encoded data removed]",
      "text/plain": [
       "<matplotlib.figure.Figure at 0x7f36888d2e10>"
      ]
     },
     "metadata": {
      "image/png": {
       "height": 250,
       "width": 253
      }
     },
     "output_type": "display_data"
    }
   ],
   "source": [
    "%matplotlib inline\n",
    "%config InlineBackend.figure_format = 'retina'\n",
    "\n",
    "import helper\n",
    "import numpy as np\n",
    "\n",
    "# Explore the dataset\n",
    "batch_id = 1\n",
    "sample_id = 5\n",
    "helper.display_stats(cifar10_dataset_folder_path, batch_id, sample_id)"
   ]
  },
  {
   "cell_type": "markdown",
   "metadata": {
    "deletable": true,
    "editable": true
   },
   "source": [
    "## Implement Preprocess Functions\n",
    "### Normalize\n",
    "In the cell below, implement the `normalize` function to take in image data, `x`, and return it as a normalized Numpy array. The values should be in the range of 0 to 1, inclusive.  The return object should be the same shape as `x`."
   ]
  },
  {
   "cell_type": "code",
   "execution_count": 6,
   "metadata": {
    "collapsed": false,
    "deletable": true,
    "editable": true
   },
   "outputs": [
    {
     "name": "stdout",
     "output_type": "stream",
     "text": [
      "Tests Passed\n"
     ]
    }
   ],
   "source": [
    "def normalize(x):\n",
    "    \"\"\"\n",
    "    Normalize a list of sample image data in the range of 0 to 1\n",
    "    : x: List of image data.  The image shape is (32, 32, 3)\n",
    "    : return: Numpy array of normalize data\n",
    "    \"\"\"\n",
    "    return x / 255.0 # shorthand for x / (max - min) + min\n",
    "\n",
    "\n",
    "\"\"\"\n",
    "DON'T MODIFY ANYTHING IN THIS CELL THAT IS BELOW THIS LINE\n",
    "\"\"\"\n",
    "tests.test_normalize(normalize)"
   ]
  },
  {
   "cell_type": "markdown",
   "metadata": {
    "deletable": true,
    "editable": true
   },
   "source": [
    "### One-hot encode\n",
    "Just like the previous code cell, you'll be implementing a function for preprocessing.  This time, you'll implement the `one_hot_encode` function. The input, `x`, are a list of labels.  Implement the function to return the list of labels as One-Hot encoded Numpy array.  The possible values for labels are 0 to 9. The one-hot encoding function should return the same encoding for each value between each call to `one_hot_encode`.  Make sure to save the map of encodings outside the function.\n",
    "\n",
    "Hint: Don't reinvent the wheel."
   ]
  },
  {
   "cell_type": "code",
   "execution_count": 7,
   "metadata": {
    "collapsed": false,
    "deletable": true,
    "editable": true
   },
   "outputs": [
    {
     "name": "stdout",
     "output_type": "stream",
     "text": [
      "Tests Passed\n"
     ]
    }
   ],
   "source": [
    "from sklearn.preprocessing import LabelBinarizer\n",
    "def one_hot_encode(x):\n",
    "    \"\"\"\n",
    "    One hot encode a list of sample labels. Return a one-hot encoded vector for each label.\n",
    "    : x: List of sample Labels\n",
    "    : return: Numpy array of one-hot encoded labels\n",
    "    \"\"\"\n",
    "    enc = LabelBinarizer()\n",
    "    # instead of saving something outside scope, I'm hardcoding our possible values. \n",
    "    # this could also be a parameter on the function, with a default to range(10).\n",
    "    enc.fit(range(10)) \n",
    "    return enc.transform(x)\n",
    "\n",
    "\n",
    "\"\"\"\n",
    "DON'T MODIFY ANYTHING IN THIS CELL THAT IS BELOW THIS LINE\n",
    "\"\"\"\n",
    "tests.test_one_hot_encode(one_hot_encode)"
   ]
  },
  {
   "cell_type": "markdown",
   "metadata": {
    "deletable": true,
    "editable": true
   },
   "source": [
    "### Randomize Data\n",
    "As you saw from exploring the data above, the order of the samples are randomized.  It doesn't hurt to randomize it again, but you don't need to for this dataset."
   ]
  },
  {
   "cell_type": "markdown",
   "metadata": {
    "deletable": true,
    "editable": true
   },
   "source": [
    "## Preprocess all the data and save it\n",
    "Running the code cell below will preprocess all the CIFAR-10 data and save it to file. The code below also uses 10% of the training data for validation."
   ]
  },
  {
   "cell_type": "code",
   "execution_count": 8,
   "metadata": {
    "collapsed": false,
    "deletable": true,
    "editable": true
   },
   "outputs": [],
   "source": [
    "\"\"\"\n",
    "DON'T MODIFY ANYTHING IN THIS CELL\n",
    "\"\"\"\n",
    "# Preprocess Training, Validation, and Testing Data\n",
    "helper.preprocess_and_save_data(cifar10_dataset_folder_path, normalize, one_hot_encode)"
   ]
  },
  {
   "cell_type": "markdown",
   "metadata": {
    "deletable": true,
    "editable": true
   },
   "source": [
    "# Check Point\n",
    "This is your first checkpoint.  If you ever decide to come back to this notebook or have to restart the notebook, you can start from here.  The preprocessed data has been saved to disk."
   ]
  },
  {
   "cell_type": "code",
   "execution_count": 9,
   "metadata": {
    "collapsed": true,
    "deletable": true,
    "editable": true
   },
   "outputs": [],
   "source": [
    "\"\"\"\n",
    "DON'T MODIFY ANYTHING IN THIS CELL\n",
    "\"\"\"\n",
    "import pickle\n",
    "import problem_unittests as tests\n",
    "import helper\n",
    "\n",
    "# Load the Preprocessed Validation data\n",
    "valid_features, valid_labels = pickle.load(open('preprocess_validation.p', mode='rb'))"
   ]
  },
  {
   "cell_type": "markdown",
   "metadata": {
    "deletable": true,
    "editable": true
   },
   "source": [
    "## Build the network\n",
    "For the neural network, you'll build each layer into a function.  Most of the code you've seen has been outside of functions. To test your code more thoroughly, we require that you put each layer in a function.  This allows us to give you better feedback and test for simple mistakes using our unittests before you submit your project.\n",
    "\n",
    ">**Note:** If you're finding it hard to dedicate enough time for this course each week, we've provided a small shortcut to this part of the project. In the next couple of problems, you'll have the option to use classes from the [TensorFlow Layers](https://www.tensorflow.org/api_docs/python/tf/layers) or [TensorFlow Layers (contrib)](https://www.tensorflow.org/api_guides/python/contrib.layers) packages to build each layer, except the layers you build in the \"Convolutional and Max Pooling Layer\" section.  TF Layers is similar to Keras's and TFLearn's abstraction to layers, so it's easy to pickup.\n",
    "\n",
    ">However, if you would like to get the most out of this course, try to solve all the problems _without_ using anything from the TF Layers packages. You **can** still use classes from other packages that happen to have the same name as ones you find in TF Layers! For example, instead of using the TF Layers version of the `conv2d` class, [tf.layers.conv2d](https://www.tensorflow.org/api_docs/python/tf/layers/conv2d), you would want to use the TF Neural Network version of `conv2d`, [tf.nn.conv2d](https://www.tensorflow.org/api_docs/python/tf/nn/conv2d). \n",
    "\n",
    "Let's begin!\n",
    "\n",
    "### Input\n",
    "The neural network needs to read the image data, one-hot encoded labels, and dropout keep probability. Implement the following functions\n",
    "* Implement `neural_net_image_input`\n",
    " * Return a [TF Placeholder](https://www.tensorflow.org/api_docs/python/tf/placeholder)\n",
    " * Set the shape using `image_shape` with batch size set to `None`.\n",
    " * Name the TensorFlow placeholder \"x\" using the TensorFlow `name` parameter in the [TF Placeholder](https://www.tensorflow.org/api_docs/python/tf/placeholder).\n",
    "* Implement `neural_net_label_input`\n",
    " * Return a [TF Placeholder](https://www.tensorflow.org/api_docs/python/tf/placeholder)\n",
    " * Set the shape using `n_classes` with batch size set to `None`.\n",
    " * Name the TensorFlow placeholder \"y\" using the TensorFlow `name` parameter in the [TF Placeholder](https://www.tensorflow.org/api_docs/python/tf/placeholder).\n",
    "* Implement `neural_net_keep_prob_input`\n",
    " * Return a [TF Placeholder](https://www.tensorflow.org/api_docs/python/tf/placeholder) for dropout keep probability.\n",
    " * Name the TensorFlow placeholder \"keep_prob\" using the TensorFlow `name` parameter in the [TF Placeholder](https://www.tensorflow.org/api_docs/python/tf/placeholder).\n",
    "\n",
    "These names will be used at the end of the project to load your saved model.\n",
    "\n",
    "Note: `None` for shapes in TensorFlow allow for a dynamic size."
   ]
  },
  {
   "cell_type": "code",
   "execution_count": 10,
   "metadata": {
    "collapsed": false,
    "deletable": true,
    "editable": true
   },
   "outputs": [
    {
     "name": "stdout",
     "output_type": "stream",
     "text": [
      "Image Input Tests Passed.\n",
      "Label Input Tests Passed.\n",
      "Keep Prob Tests Passed.\n"
     ]
    }
   ],
   "source": [
    "import tensorflow as tf\n",
    "\n",
    "def neural_net_image_input(image_shape):\n",
    "    \"\"\"\n",
    "    Return a Tensor for a bach of image input\n",
    "    : image_shape: Shape of the images\n",
    "    : return: Tensor for image input.\n",
    "    \"\"\"\n",
    "    return tf.placeholder(tf.float32, shape=[None] + list(image_shape), name='x')\n",
    "\n",
    "\n",
    "def neural_net_label_input(n_classes):\n",
    "    \"\"\"\n",
    "    Return a Tensor for a batch of label input\n",
    "    : n_classes: Number of classes\n",
    "    : return: Tensor for label input.\n",
    "    \"\"\"\n",
    "    return tf.placeholder(tf.float32, shape=[None, n_classes], name='y')\n",
    "\n",
    "\n",
    "def neural_net_keep_prob_input():\n",
    "    \"\"\"\n",
    "    Return a Tensor for keep probability\n",
    "    : return: Tensor for keep probability.\n",
    "    \"\"\"\n",
    "    return tf.placeholder(tf.float32, name='keep_prob')\n",
    "\n",
    "\n",
    "\"\"\"\n",
    "DON'T MODIFY ANYTHING IN THIS CELL THAT IS BELOW THIS LINE\n",
    "\"\"\"\n",
    "tf.reset_default_graph()\n",
    "tests.test_nn_image_inputs(neural_net_image_input)\n",
    "tests.test_nn_label_inputs(neural_net_label_input)\n",
    "tests.test_nn_keep_prob_inputs(neural_net_keep_prob_input)"
   ]
  },
  {
   "cell_type": "markdown",
   "metadata": {
    "deletable": true,
    "editable": true
   },
   "source": [
    "### Convolution and Max Pooling Layer\n",
    "Convolution layers have a lot of success with images. For this code cell, you should implement the function `conv2d_maxpool` to apply convolution then max pooling:\n",
    "* Create the weight and bias using `conv_ksize`, `conv_num_outputs` and the shape of `x_tensor`.\n",
    "* Apply a convolution to `x_tensor` using weight and `conv_strides`.\n",
    " * We recommend you use same padding, but you're welcome to use any padding.\n",
    "* Add bias\n",
    "* Add a nonlinear activation to the convolution.\n",
    "* Apply Max Pooling using `pool_ksize` and `pool_strides`.\n",
    " * We recommend you use same padding, but you're welcome to use any padding.\n",
    "\n",
    "**Note:** You **can't** use [TensorFlow Layers](https://www.tensorflow.org/api_docs/python/tf/layers) or [TensorFlow Layers (contrib)](https://www.tensorflow.org/api_guides/python/contrib.layers) for **this** layer, but you can still use TensorFlow's [Neural Network](https://www.tensorflow.org/api_docs/python/tf/nn) package. You may still use the shortcut option for all the **other** layers."
   ]
  },
  {
   "cell_type": "code",
   "execution_count": 497,
   "metadata": {
    "collapsed": false,
    "deletable": true,
    "editable": true
   },
   "outputs": [
    {
     "name": "stdout",
     "output_type": "stream",
     "text": [
      "Tests Passed\n"
     ]
    }
   ],
   "source": [
    "def conv2d_maxpool(x_tensor, conv_num_outputs, conv_ksize, conv_strides, pool_ksize, pool_strides):\n",
    "    \"\"\"\n",
    "    Apply convolution then max pooling to x_tensor\n",
    "    :param x_tensor: TensorFlow Tensor\n",
    "    :param conv_num_outputs: Number of outputs for the convolutional layer\n",
    "    :param conv_ksize: kernal size 2-D Tuple for the convolutional layer\n",
    "    :param conv_strides: Stride 2-D Tuple for convolution\n",
    "    :param pool_ksize: kernal size 2-D Tuple for pool\n",
    "    :param pool_strides: Stride 2-D Tuple for pool\n",
    "    : return: A tensor that represents convolution and max pooling of x_tensor\n",
    "    \"\"\"\n",
    "    stddev = 0.001\n",
    "    weights = tf.Variable(tf.truncated_normal([conv_ksize[0], conv_ksize[1], x_tensor.get_shape().as_list()[3], conv_num_outputs], mean=0.0,stddev = stddev))\n",
    "    biases = tf.Variable(tf.zeros(conv_num_outputs))\n",
    "    conv_layer = tf.nn.conv2d(x_tensor, weights, strides=[1, conv_strides[0], conv_strides[1], 1], padding='SAME')\n",
    "    conv_layer = tf.nn.bias_add(conv_layer, biases)\n",
    "    conv_layer = tf.nn.relu(conv_layer)\n",
    "    return tf.nn.max_pool(conv_layer, ksize=[1, pool_ksize[0], pool_ksize[1], 1], strides=[1, pool_strides[0], pool_strides[0], 1], padding='SAME') \n",
    "\n",
    "\n",
    "\"\"\"\n",
    "DON'T MODIFY ANYTHING IN THIS CELL THAT IS BELOW THIS LINE\n",
    "\"\"\"\n",
    "tests.test_con_pool(conv2d_maxpool)"
   ]
  },
  {
   "cell_type": "markdown",
   "metadata": {
    "deletable": true,
    "editable": true
   },
   "source": [
    "### Flatten Layer\n",
    "Implement the `flatten` function to change the dimension of `x_tensor` from a 4-D tensor to a 2-D tensor.  The output should be the shape (*Batch Size*, *Flattened Image Size*). Shortcut option: you can use classes from the [TensorFlow Layers](https://www.tensorflow.org/api_docs/python/tf/layers) or [TensorFlow Layers (contrib)](https://www.tensorflow.org/api_guides/python/contrib.layers) packages for this layer. For more of a challenge, only use other TensorFlow packages."
   ]
  },
  {
   "cell_type": "code",
   "execution_count": 498,
   "metadata": {
    "collapsed": false,
    "deletable": true,
    "editable": true
   },
   "outputs": [
    {
     "name": "stdout",
     "output_type": "stream",
     "text": [
      "Tests Passed\n"
     ]
    }
   ],
   "source": [
    "def flatten(x_tensor):\n",
    "    \"\"\"\n",
    "    Flatten x_tensor to (Batch Size, Flattened Image Size)\n",
    "    : x_tensor: A tensor of size (Batch Size, ...), where ... are the image dimensions.\n",
    "    : return: A tensor of size (Batch Size, Flattened Image Size).\n",
    "    \"\"\"\n",
    "    return tf.contrib.layers.flatten(x_tensor)\n",
    "    \n",
    "\n",
    "\"\"\"\n",
    "DON'T MODIFY ANYTHING IN THIS CELL THAT IS BELOW THIS LINE\n",
    "\"\"\"\n",
    "tests.test_flatten(flatten)"
   ]
  },
  {
   "cell_type": "markdown",
   "metadata": {
    "deletable": true,
    "editable": true
   },
   "source": [
    "### Fully-Connected Layer\n",
    "Implement the `fully_conn` function to apply a fully connected layer to `x_tensor` with the shape (*Batch Size*, *num_outputs*). Shortcut option: you can use classes from the [TensorFlow Layers](https://www.tensorflow.org/api_docs/python/tf/layers) or [TensorFlow Layers (contrib)](https://www.tensorflow.org/api_guides/python/contrib.layers) packages for this layer. For more of a challenge, only use other TensorFlow packages."
   ]
  },
  {
   "cell_type": "code",
   "execution_count": 499,
   "metadata": {
    "collapsed": false,
    "deletable": true,
    "editable": true
   },
   "outputs": [
    {
     "name": "stdout",
     "output_type": "stream",
     "text": [
      "Tests Passed\n"
     ]
    }
   ],
   "source": [
    "def fully_conn(x_tensor, num_outputs):\n",
    "    \"\"\"\n",
    "    Apply a fully connected layer to x_tensor using weight and bias\n",
    "    : x_tensor: A 2-D tensor where the first dimension is batch size.\n",
    "    : num_outputs: The number of output that the new tensor should be.\n",
    "    : return: A 2-D tensor where the second dimension is num_outputs.\n",
    "    \"\"\"\n",
    "    shape = x_tensor.get_shape().as_list()\n",
    "    return tf.layers.dense(x_tensor, num_outputs, activation=tf.nn.relu)\n",
    "\n",
    "\"\"\"\n",
    "DON'T MODIFY ANYTHING IN THIS CELL THAT IS BELOW THIS LINE\n",
    "\"\"\"\n",
    "tests.test_fully_conn(fully_conn)"
   ]
  },
  {
   "cell_type": "markdown",
   "metadata": {
    "deletable": true,
    "editable": true
   },
   "source": [
    "### Output Layer\n",
    "Implement the `output` function to apply a fully connected layer to `x_tensor` with the shape (*Batch Size*, *num_outputs*). Shortcut option: you can use classes from the [TensorFlow Layers](https://www.tensorflow.org/api_docs/python/tf/layers) or [TensorFlow Layers (contrib)](https://www.tensorflow.org/api_guides/python/contrib.layers) packages for this layer. For more of a challenge, only use other TensorFlow packages.\n",
    "\n",
    "**Note:** Activation, softmax, or cross entropy should **not** be applied to this."
   ]
  },
  {
   "cell_type": "code",
   "execution_count": 500,
   "metadata": {
    "collapsed": false,
    "deletable": true,
    "editable": true
   },
   "outputs": [
    {
     "name": "stdout",
     "output_type": "stream",
     "text": [
      "Tests Passed\n"
     ]
    }
   ],
   "source": [
    "def output(x_tensor, num_outputs):\n",
    "    \"\"\"\n",
    "    Apply a output layer to x_tensor using weight and bias\n",
    "    : x_tensor: A 2-D tensor where the first dimension is batch size.\n",
    "    : num_outputs: The number of output that the new tensor should be.\n",
    "    : return: A 2-D tensor where the second dimension is num_outputs.\n",
    "    \"\"\"\n",
    "    return tf.layers.dense(x_tensor, num_outputs)\n",
    "\n",
    "\n",
    "\n",
    "\"\"\"\n",
    "DON'T MODIFY ANYTHING IN THIS CELL THAT IS BELOW THIS LINE\n",
    "\"\"\"\n",
    "tests.test_output(output)"
   ]
  },
  {
   "cell_type": "markdown",
   "metadata": {
    "deletable": true,
    "editable": true
   },
   "source": [
    "### Create Convolutional Model\n",
    "Implement the function `conv_net` to create a convolutional neural network model. The function takes in a batch of images, `x`, and outputs logits.  Use the layers you created above to create this model:\n",
    "\n",
    "* Apply 1, 2, or 3 Convolution and Max Pool layers\n",
    "* Apply a Flatten Layer\n",
    "* Apply 1, 2, or 3 Fully Connected Layers\n",
    "* Apply an Output Layer\n",
    "* Return the output\n",
    "* Apply [TensorFlow's Dropout](https://www.tensorflow.org/api_docs/python/tf/nn/dropout) to one or more layers in the model using `keep_prob`. "
   ]
  },
  {
   "cell_type": "code",
   "execution_count": 501,
   "metadata": {
    "collapsed": false,
    "deletable": true,
    "editable": true
   },
   "outputs": [
    {
     "name": "stdout",
     "output_type": "stream",
     "text": [
      "Neural Network Built!\n"
     ]
    }
   ],
   "source": [
    "def conv_net(x, keep_prob):\n",
    "    \"\"\"\n",
    "    Create a convolutional neural network model\n",
    "    : x: Placeholder tensor that holds image data.\n",
    "    : keep_prob: Placeholder tensor that hold dropout keep probability.\n",
    "    : return: Tensor that represents logits\n",
    "    \"\"\"\n",
    "    # TODO: Apply 1, 2, or 3 Convolution and Max Pool layers\n",
    "    #    Play around with different number of outputs, kernel size and stride\n",
    "    # Function Definition from Above:\n",
    "    #    conv2d_maxpool(x_tensor, conv_num_outputs, conv_ksize, conv_strides, pool_ksize, pool_strides)\n",
    "    conv_ksize = (4,4)\n",
    "    conv_strides = (1,1)\n",
    "    pool_ksize=(2,2)\n",
    "    pool_strides=(2,2)\n",
    "    net = conv2d_maxpool(x, 512, conv_ksize, conv_strides, pool_ksize, pool_strides)\n",
    "    net = conv2d_maxpool(x, 64, conv_ksize, conv_strides, pool_ksize, pool_strides)\n",
    "    net = conv2d_maxpool(x, 32, conv_ksize, conv_strides, pool_ksize, pool_strides)\n",
    "\n",
    "\n",
    "    # TODO: Apply a Flatten Layer\n",
    "    # Function Definition from Above:\n",
    "    #   flatten(x_tensor)\n",
    "    net = flatten(net)\n",
    "\n",
    "    # TODO: Apply 1, 2, or 3 Fully Connected Layers\n",
    "    #    Play around with different number of outputs\n",
    "    # Function Definition from Above:\n",
    "    #   fully_conn(x_tensor, num_outputs)\n",
    "    net = fully_conn(net, 32)\n",
    "    net = tf.nn.dropout(net, keep_prob)\n",
    "    \n",
    "\n",
    "    # TODO: Apply an Output Layer\n",
    "    #    Set this to the number of classes\n",
    "    # Function Definition from Above:\n",
    "    #   output(x_tensor, num_outputs)\n",
    "    net = output(net, 10)\n",
    "    \n",
    "    # TODO: return output\n",
    "    return net\n",
    "\n",
    "\n",
    "\"\"\"\n",
    "DON'T MODIFY ANYTHING IN THIS CELL THAT IS BELOW THIS LINE\n",
    "\"\"\"\n",
    "\n",
    "##############################\n",
    "## Build the Neural Network ##\n",
    "##############################\n",
    "\n",
    "# Remove previous weights, bias, inputs, etc..\n",
    "tf.reset_default_graph()\n",
    "\n",
    "# Inputs\n",
    "x = neural_net_image_input((32, 32, 3))\n",
    "y = neural_net_label_input(10)\n",
    "keep_prob = neural_net_keep_prob_input()\n",
    "\n",
    "# Model\n",
    "logits = conv_net(x, keep_prob)\n",
    "\n",
    "# Name logits Tensor, so that is can be loaded from disk after training\n",
    "logits = tf.identity(logits, name='logits')\n",
    "\n",
    "# Loss and Optimizer\n",
    "cost = tf.reduce_mean(tf.nn.softmax_cross_entropy_with_logits(logits=logits, labels=y))\n",
    "optimizer = tf.train.AdamOptimizer().minimize(cost)\n",
    "\n",
    "# Accuracy\n",
    "correct_pred = tf.equal(tf.argmax(logits, 1), tf.argmax(y, 1))\n",
    "accuracy = tf.reduce_mean(tf.cast(correct_pred, tf.float32), name='accuracy')\n",
    "\n",
    "tests.test_conv_net(conv_net)"
   ]
  },
  {
   "cell_type": "markdown",
   "metadata": {
    "deletable": true,
    "editable": true
   },
   "source": [
    "## Train the Neural Network\n",
    "### Single Optimization\n",
    "Implement the function `train_neural_network` to do a single optimization.  The optimization should use `optimizer` to optimize in `session` with a `feed_dict` of the following:\n",
    "* `x` for image input\n",
    "* `y` for labels\n",
    "* `keep_prob` for keep probability for dropout\n",
    "\n",
    "This function will be called for each batch, so `tf.global_variables_initializer()` has already been called.\n",
    "\n",
    "Note: Nothing needs to be returned. This function is only optimizing the neural network."
   ]
  },
  {
   "cell_type": "code",
   "execution_count": 502,
   "metadata": {
    "collapsed": false,
    "deletable": true,
    "editable": true
   },
   "outputs": [
    {
     "name": "stdout",
     "output_type": "stream",
     "text": [
      "Tests Passed\n"
     ]
    }
   ],
   "source": [
    "def train_neural_network(session, optimizer, keep_probability, feature_batch, label_batch):\n",
    "    \"\"\"\n",
    "    Optimize the session on a batch of images and labels\n",
    "    : session: Current TensorFlow session\n",
    "    : optimizer: TensorFlow optimizer function\n",
    "    : keep_probability: keep probability\n",
    "    : feature_batch: Batch of Numpy image data\n",
    "    : label_batch: Batch of Numpy label data\n",
    "    \"\"\"\n",
    "    session.run(optimizer, feed_dict={\n",
    "        x: feature_batch,\n",
    "        y: label_batch,\n",
    "        keep_prob: keep_probability\n",
    "    })\n",
    "\n",
    "\n",
    "\"\"\"\n",
    "DON'T MODIFY ANYTHING IN THIS CELL THAT IS BELOW THIS LINE\n",
    "\"\"\"\n",
    "tests.test_train_nn(train_neural_network)"
   ]
  },
  {
   "cell_type": "markdown",
   "metadata": {
    "deletable": true,
    "editable": true
   },
   "source": [
    "### Show Stats\n",
    "Implement the function `print_stats` to print loss and validation accuracy.  Use the global variables `valid_features` and `valid_labels` to calculate validation accuracy.  Use a keep probability of `1.0` to calculate the loss and validation accuracy."
   ]
  },
  {
   "cell_type": "code",
   "execution_count": 503,
   "metadata": {
    "collapsed": false,
    "deletable": true,
    "editable": true
   },
   "outputs": [],
   "source": [
    "import datetime\n",
    "\n",
    "def print_stats(session, feature_batch, label_batch, cost, accuracy):\n",
    "    \"\"\"\n",
    "    Print information about loss and validation accuracy\n",
    "    : session: Current TensorFlow session\n",
    "    : feature_batch: Batch of Numpy image data\n",
    "    : label_batch: Batch of Numpy label data\n",
    "    : cost: TensorFlow cost function\n",
    "    : accuracy: TensorFlow accuracy function\n",
    "    \"\"\"\n",
    "    validation_cost = session.run(cost, feed_dict={\n",
    "        x: feature_batch,\n",
    "        y: label_batch,\n",
    "        keep_prob: 1.0\n",
    "    })\n",
    "    validation_accuracy = session.run(accuracy, feed_dict={\n",
    "        x: valid_features,\n",
    "        y: valid_labels,\n",
    "        keep_prob: 1.0\n",
    "    })\n",
    "    \n",
    "    print(\"{0} Cost: {1:.4f}  || Accuracy: {2:.4f}\".format(datetime.datetime.now(), validation_cost, validation_accuracy))\n"
   ]
  },
  {
   "cell_type": "markdown",
   "metadata": {
    "deletable": true,
    "editable": true
   },
   "source": [
    "### Hyperparameters\n",
    "Tune the following parameters:\n",
    "* Set `epochs` to the number of iterations until the network stops learning or start overfitting\n",
    "* Set `batch_size` to the highest number that your machine has memory for.  Most people set them to common sizes of memory:\n",
    " * 64\n",
    " * 128\n",
    " * 256\n",
    " * ...\n",
    "* Set `keep_probability` to the probability of keeping a node using dropout"
   ]
  },
  {
   "cell_type": "code",
   "execution_count": 513,
   "metadata": {
    "collapsed": true,
    "deletable": true,
    "editable": true
   },
   "outputs": [],
   "source": [
    "# TODO: Tune Parameters\n",
    "epochs = 30\n",
    "batch_size = 128\n",
    "keep_probability = 0.8"
   ]
  },
  {
   "cell_type": "markdown",
   "metadata": {
    "deletable": true,
    "editable": true
   },
   "source": [
    "### Train on a Single CIFAR-10 Batch\n",
    "Instead of training the neural network on all the CIFAR-10 batches of data, let's use a single batch. This should save time while you iterate on the model to get a better accuracy.  Once the final validation accuracy is 50% or greater, run the model on all the data in the next section."
   ]
  },
  {
   "cell_type": "code",
   "execution_count": 514,
   "metadata": {
    "collapsed": false,
    "deletable": true,
    "editable": true
   },
   "outputs": [
    {
     "name": "stdout",
     "output_type": "stream",
     "text": [
      "Checking the Training on a Single Batch...\n",
      "Epoch  1, CIFAR-10 Batch 1:  2017-03-07 11:34:40.384572 Cost: 2.2040  || Accuracy: 0.2472\n",
      "Epoch  2, CIFAR-10 Batch 1:  2017-03-07 11:34:41.739035 Cost: 2.1321  || Accuracy: 0.2952\n",
      "Epoch  3, CIFAR-10 Batch 1:  2017-03-07 11:34:43.094051 Cost: 2.0284  || Accuracy: 0.3440\n",
      "Epoch  4, CIFAR-10 Batch 1:  2017-03-07 11:34:44.453648 Cost: 1.9144  || Accuracy: 0.3958\n",
      "Epoch  5, CIFAR-10 Batch 1:  2017-03-07 11:34:45.810603 Cost: 1.7909  || Accuracy: 0.4166\n",
      "Epoch  6, CIFAR-10 Batch 1:  2017-03-07 11:34:47.168318 Cost: 1.7297  || Accuracy: 0.4200\n",
      "Epoch  7, CIFAR-10 Batch 1:  2017-03-07 11:34:48.523112 Cost: 1.6577  || Accuracy: 0.4414\n",
      "Epoch  8, CIFAR-10 Batch 1:  2017-03-07 11:34:49.878219 Cost: 1.5952  || Accuracy: 0.4490\n",
      "Epoch  9, CIFAR-10 Batch 1:  2017-03-07 11:34:51.237408 Cost: 1.5394  || Accuracy: 0.4536\n",
      "Epoch 10, CIFAR-10 Batch 1:  2017-03-07 11:34:52.595654 Cost: 1.4767  || Accuracy: 0.4816\n",
      "Epoch 11, CIFAR-10 Batch 1:  2017-03-07 11:34:53.953103 Cost: 1.4367  || Accuracy: 0.4764\n",
      "Epoch 12, CIFAR-10 Batch 1:  2017-03-07 11:34:55.313497 Cost: 1.3619  || Accuracy: 0.4772\n",
      "Epoch 13, CIFAR-10 Batch 1:  2017-03-07 11:34:56.662929 Cost: 1.3210  || Accuracy: 0.4796\n",
      "Epoch 14, CIFAR-10 Batch 1:  2017-03-07 11:34:58.018388 Cost: 1.3031  || Accuracy: 0.4844\n",
      "Epoch 15, CIFAR-10 Batch 1:  2017-03-07 11:34:59.377438 Cost: 1.2788  || Accuracy: 0.4886\n",
      "Epoch 16, CIFAR-10 Batch 1:  2017-03-07 11:35:00.739752 Cost: 1.2562  || Accuracy: 0.4896\n",
      "Epoch 17, CIFAR-10 Batch 1:  2017-03-07 11:35:02.115187 Cost: 1.2388  || Accuracy: 0.4892\n",
      "Epoch 18, CIFAR-10 Batch 1:  2017-03-07 11:35:03.475822 Cost: 1.2150  || Accuracy: 0.4898\n",
      "Epoch 19, CIFAR-10 Batch 1:  2017-03-07 11:35:04.834447 Cost: 1.1647  || Accuracy: 0.4908\n",
      "Epoch 20, CIFAR-10 Batch 1:  2017-03-07 11:35:06.192151 Cost: 1.1589  || Accuracy: 0.4882\n",
      "Epoch 21, CIFAR-10 Batch 1:  2017-03-07 11:35:07.553117 Cost: 1.1306  || Accuracy: 0.4934\n",
      "Epoch 22, CIFAR-10 Batch 1:  2017-03-07 11:35:08.912206 Cost: 1.1100  || Accuracy: 0.4942\n",
      "Epoch 23, CIFAR-10 Batch 1:  2017-03-07 11:35:10.271712 Cost: 1.1139  || Accuracy: 0.4890\n",
      "Epoch 24, CIFAR-10 Batch 1:  2017-03-07 11:35:11.632000 Cost: 1.0620  || Accuracy: 0.4960\n",
      "Epoch 25, CIFAR-10 Batch 1:  2017-03-07 11:35:12.990829 Cost: 1.0317  || Accuracy: 0.4956\n",
      "Epoch 26, CIFAR-10 Batch 1:  2017-03-07 11:35:14.349054 Cost: 0.9905  || Accuracy: 0.5016\n",
      "Epoch 27, CIFAR-10 Batch 1:  2017-03-07 11:35:15.709670 Cost: 0.9739  || Accuracy: 0.5024\n",
      "Epoch 28, CIFAR-10 Batch 1:  2017-03-07 11:35:17.068909 Cost: 0.9688  || Accuracy: 0.4964\n",
      "Epoch 29, CIFAR-10 Batch 1:  2017-03-07 11:35:18.426669 Cost: 0.9445  || Accuracy: 0.4970\n",
      "Epoch 30, CIFAR-10 Batch 1:  2017-03-07 11:35:19.784283 Cost: 0.9179  || Accuracy: 0.4976\n"
     ]
    }
   ],
   "source": [
    "\"\"\"\n",
    "DON'T MODIFY ANYTHING IN THIS CELL\n",
    "\"\"\"\n",
    "print('Checking the Training on a Single Batch...')\n",
    "with tf.Session() as sess:\n",
    "    # Initializing the variables\n",
    "    sess.run(tf.global_variables_initializer())\n",
    "    \n",
    "    # Training cycle\n",
    "    for epoch in range(epochs):\n",
    "        batch_i = 1\n",
    "        for batch_features, batch_labels in helper.load_preprocess_training_batch(batch_i, batch_size):\n",
    "            train_neural_network(sess, optimizer, keep_probability, batch_features, batch_labels)\n",
    "        print('Epoch {:>2}, CIFAR-10 Batch {}:  '.format(epoch + 1, batch_i), end='')\n",
    "        print_stats(sess, batch_features, batch_labels, cost, accuracy)"
   ]
  },
  {
   "cell_type": "markdown",
   "metadata": {
    "deletable": true,
    "editable": true
   },
   "source": [
    "### Fully Train the Model\n",
    "Now that you got a good accuracy with a single CIFAR-10 batch, try it with all five batches."
   ]
  },
  {
   "cell_type": "code",
   "execution_count": 515,
   "metadata": {
    "collapsed": false,
    "deletable": true,
    "editable": true
   },
   "outputs": [
    {
     "name": "stdout",
     "output_type": "stream",
     "text": [
      "Training...\n",
      "Epoch  1, CIFAR-10 Batch 1:  2017-03-07 11:35:35.867604 Cost: 2.2419  || Accuracy: 0.2224\n",
      "Epoch  1, CIFAR-10 Batch 2:  2017-03-07 11:35:37.228198 Cost: 2.1694  || Accuracy: 0.2578\n",
      "Epoch  1, CIFAR-10 Batch 3:  2017-03-07 11:35:38.583609 Cost: 1.9238  || Accuracy: 0.2614\n",
      "Epoch  1, CIFAR-10 Batch 4:  2017-03-07 11:35:39.941414 Cost: 1.9961  || Accuracy: 0.2750\n",
      "Epoch  1, CIFAR-10 Batch 5:  2017-03-07 11:35:41.296266 Cost: 2.0576  || Accuracy: 0.2984\n",
      "Epoch  2, CIFAR-10 Batch 1:  2017-03-07 11:35:42.646034 Cost: 2.1857  || Accuracy: 0.2840\n",
      "Epoch  2, CIFAR-10 Batch 2:  2017-03-07 11:35:44.000367 Cost: 2.1053  || Accuracy: 0.3098\n",
      "Epoch  2, CIFAR-10 Batch 3:  2017-03-07 11:35:45.357471 Cost: 1.8298  || Accuracy: 0.3200\n",
      "Epoch  2, CIFAR-10 Batch 4:  2017-03-07 11:35:46.715384 Cost: 1.8805  || Accuracy: 0.3192\n",
      "Epoch  2, CIFAR-10 Batch 5:  2017-03-07 11:35:48.074221 Cost: 1.9470  || Accuracy: 0.3352\n",
      "Epoch  3, CIFAR-10 Batch 1:  2017-03-07 11:35:49.433217 Cost: 2.0791  || Accuracy: 0.3200\n",
      "Epoch  3, CIFAR-10 Batch 2:  2017-03-07 11:35:50.791670 Cost: 1.9229  || Accuracy: 0.3490\n",
      "Epoch  3, CIFAR-10 Batch 3:  2017-03-07 11:35:52.151214 Cost: 1.5819  || Accuracy: 0.3552\n",
      "Epoch  3, CIFAR-10 Batch 4:  2017-03-07 11:35:53.510486 Cost: 1.6976  || Accuracy: 0.3534\n",
      "Epoch  3, CIFAR-10 Batch 5:  2017-03-07 11:35:54.869375 Cost: 1.8071  || Accuracy: 0.3870\n",
      "Epoch  4, CIFAR-10 Batch 1:  2017-03-07 11:35:56.229303 Cost: 1.9511  || Accuracy: 0.3936\n",
      "Epoch  4, CIFAR-10 Batch 2:  2017-03-07 11:35:57.586988 Cost: 1.7608  || Accuracy: 0.4008\n",
      "Epoch  4, CIFAR-10 Batch 3:  2017-03-07 11:35:58.947160 Cost: 1.4359  || Accuracy: 0.3902\n",
      "Epoch  4, CIFAR-10 Batch 4:  2017-03-07 11:36:00.308855 Cost: 1.5987  || Accuracy: 0.3984\n",
      "Epoch  4, CIFAR-10 Batch 5:  2017-03-07 11:36:01.666428 Cost: 1.7338  || Accuracy: 0.4056\n",
      "Epoch  5, CIFAR-10 Batch 1:  2017-03-07 11:36:03.022845 Cost: 1.8356  || Accuracy: 0.4180\n",
      "Epoch  5, CIFAR-10 Batch 2:  2017-03-07 11:36:04.383428 Cost: 1.6390  || Accuracy: 0.4262\n",
      "Epoch  5, CIFAR-10 Batch 3:  2017-03-07 11:36:05.739360 Cost: 1.3517  || Accuracy: 0.4094\n",
      "Epoch  5, CIFAR-10 Batch 4:  2017-03-07 11:36:07.099401 Cost: 1.5684  || Accuracy: 0.4242\n",
      "Epoch  5, CIFAR-10 Batch 5:  2017-03-07 11:36:08.458994 Cost: 1.6756  || Accuracy: 0.4258\n",
      "Epoch  6, CIFAR-10 Batch 1:  2017-03-07 11:36:09.821733 Cost: 1.7974  || Accuracy: 0.4408\n",
      "Epoch  6, CIFAR-10 Batch 2:  2017-03-07 11:36:11.193546 Cost: 1.5502  || Accuracy: 0.4424\n",
      "Epoch  6, CIFAR-10 Batch 3:  2017-03-07 11:36:12.567054 Cost: 1.2626  || Accuracy: 0.4374\n",
      "Epoch  6, CIFAR-10 Batch 4:  2017-03-07 11:36:13.931933 Cost: 1.5173  || Accuracy: 0.4478\n",
      "Epoch  6, CIFAR-10 Batch 5:  2017-03-07 11:36:15.290144 Cost: 1.5783  || Accuracy: 0.4462\n",
      "Epoch  7, CIFAR-10 Batch 1:  2017-03-07 11:36:16.642313 Cost: 1.7476  || Accuracy: 0.4548\n",
      "Epoch  7, CIFAR-10 Batch 2:  2017-03-07 11:36:18.017108 Cost: 1.4365  || Accuracy: 0.4522\n",
      "Epoch  7, CIFAR-10 Batch 3:  2017-03-07 11:36:19.392633 Cost: 1.2723  || Accuracy: 0.4438\n",
      "Epoch  7, CIFAR-10 Batch 4:  2017-03-07 11:36:20.766870 Cost: 1.4718  || Accuracy: 0.4572\n",
      "Epoch  7, CIFAR-10 Batch 5:  2017-03-07 11:36:22.139878 Cost: 1.5289  || Accuracy: 0.4592\n",
      "Epoch  8, CIFAR-10 Batch 1:  2017-03-07 11:36:23.515679 Cost: 1.6660  || Accuracy: 0.4666\n",
      "Epoch  8, CIFAR-10 Batch 2:  2017-03-07 11:36:24.889348 Cost: 1.3771  || Accuracy: 0.4626\n",
      "Epoch  8, CIFAR-10 Batch 3:  2017-03-07 11:36:26.263896 Cost: 1.2347  || Accuracy: 0.4650\n",
      "Epoch  8, CIFAR-10 Batch 4:  2017-03-07 11:36:27.637597 Cost: 1.4608  || Accuracy: 0.4790\n",
      "Epoch  8, CIFAR-10 Batch 5:  2017-03-07 11:36:29.012388 Cost: 1.4814  || Accuracy: 0.4758\n",
      "Epoch  9, CIFAR-10 Batch 1:  2017-03-07 11:36:30.386295 Cost: 1.6394  || Accuracy: 0.4824\n",
      "Epoch  9, CIFAR-10 Batch 2:  2017-03-07 11:36:31.759693 Cost: 1.3345  || Accuracy: 0.4762\n",
      "Epoch  9, CIFAR-10 Batch 3:  2017-03-07 11:36:33.132287 Cost: 1.1694  || Accuracy: 0.4614\n",
      "Epoch  9, CIFAR-10 Batch 4:  2017-03-07 11:36:34.508433 Cost: 1.4533  || Accuracy: 0.4876\n",
      "Epoch  9, CIFAR-10 Batch 5:  2017-03-07 11:36:35.873228 Cost: 1.4609  || Accuracy: 0.4770\n",
      "Epoch 10, CIFAR-10 Batch 1:  2017-03-07 11:36:37.248704 Cost: 1.5713  || Accuracy: 0.4820\n",
      "Epoch 10, CIFAR-10 Batch 2:  2017-03-07 11:36:38.621529 Cost: 1.2705  || Accuracy: 0.4856\n",
      "Epoch 10, CIFAR-10 Batch 3:  2017-03-07 11:36:39.992854 Cost: 1.1674  || Accuracy: 0.4672\n",
      "Epoch 10, CIFAR-10 Batch 4:  2017-03-07 11:36:41.363038 Cost: 1.3976  || Accuracy: 0.4902\n",
      "Epoch 10, CIFAR-10 Batch 5:  2017-03-07 11:36:42.737105 Cost: 1.4162  || Accuracy: 0.4798\n",
      "Epoch 11, CIFAR-10 Batch 1:  2017-03-07 11:36:44.112054 Cost: 1.5435  || Accuracy: 0.4844\n",
      "Epoch 11, CIFAR-10 Batch 2:  2017-03-07 11:36:45.483878 Cost: 1.2369  || Accuracy: 0.4872\n",
      "Epoch 11, CIFAR-10 Batch 3:  2017-03-07 11:36:46.853814 Cost: 1.1398  || Accuracy: 0.4800\n",
      "Epoch 11, CIFAR-10 Batch 4:  2017-03-07 11:36:48.226673 Cost: 1.3782  || Accuracy: 0.4964\n",
      "Epoch 11, CIFAR-10 Batch 5:  2017-03-07 11:36:49.602673 Cost: 1.4062  || Accuracy: 0.4870\n",
      "Epoch 12, CIFAR-10 Batch 1:  2017-03-07 11:36:50.976669 Cost: 1.5730  || Accuracy: 0.4958\n",
      "Epoch 12, CIFAR-10 Batch 2:  2017-03-07 11:36:52.347865 Cost: 1.2156  || Accuracy: 0.4962\n",
      "Epoch 12, CIFAR-10 Batch 3:  2017-03-07 11:36:53.713009 Cost: 1.1292  || Accuracy: 0.4720\n",
      "Epoch 12, CIFAR-10 Batch 4:  2017-03-07 11:36:55.081700 Cost: 1.3677  || Accuracy: 0.5016\n",
      "Epoch 12, CIFAR-10 Batch 5:  2017-03-07 11:36:56.455143 Cost: 1.4749  || Accuracy: 0.4792\n",
      "Epoch 13, CIFAR-10 Batch 1:  2017-03-07 11:36:57.827822 Cost: 1.5087  || Accuracy: 0.5030\n",
      "Epoch 13, CIFAR-10 Batch 2:  2017-03-07 11:36:59.204751 Cost: 1.2161  || Accuracy: 0.4996\n",
      "Epoch 13, CIFAR-10 Batch 3:  2017-03-07 11:37:00.578791 Cost: 1.1168  || Accuracy: 0.4904\n",
      "Epoch 13, CIFAR-10 Batch 4:  2017-03-07 11:37:01.955221 Cost: 1.3462  || Accuracy: 0.5028\n",
      "Epoch 13, CIFAR-10 Batch 5:  2017-03-07 11:37:03.322738 Cost: 1.4100  || Accuracy: 0.4876\n",
      "Epoch 14, CIFAR-10 Batch 1:  2017-03-07 11:37:04.689605 Cost: 1.4873  || Accuracy: 0.4986\n",
      "Epoch 14, CIFAR-10 Batch 2:  2017-03-07 11:37:06.054792 Cost: 1.2018  || Accuracy: 0.5068\n",
      "Epoch 14, CIFAR-10 Batch 3:  2017-03-07 11:37:07.429221 Cost: 1.1218  || Accuracy: 0.4920\n",
      "Epoch 14, CIFAR-10 Batch 4:  2017-03-07 11:37:08.803562 Cost: 1.3497  || Accuracy: 0.4992\n",
      "Epoch 14, CIFAR-10 Batch 5:  2017-03-07 11:37:10.179789 Cost: 1.3996  || Accuracy: 0.4938\n",
      "Epoch 15, CIFAR-10 Batch 1:  2017-03-07 11:37:11.555238 Cost: 1.4728  || Accuracy: 0.5020\n",
      "Epoch 15, CIFAR-10 Batch 2:  2017-03-07 11:37:12.926507 Cost: 1.1692  || Accuracy: 0.5066\n",
      "Epoch 15, CIFAR-10 Batch 3:  2017-03-07 11:37:14.299517 Cost: 1.1118  || Accuracy: 0.4954\n",
      "Epoch 15, CIFAR-10 Batch 4:  2017-03-07 11:37:15.663027 Cost: 1.3465  || Accuracy: 0.5026\n",
      "Epoch 15, CIFAR-10 Batch 5:  2017-03-07 11:37:17.036494 Cost: 1.3819  || Accuracy: 0.4878\n",
      "Epoch 16, CIFAR-10 Batch 1:  2017-03-07 11:37:18.412862 Cost: 1.4395  || Accuracy: 0.5056\n",
      "Epoch 16, CIFAR-10 Batch 2:  2017-03-07 11:37:19.786990 Cost: 1.1659  || Accuracy: 0.5072\n",
      "Epoch 16, CIFAR-10 Batch 3:  2017-03-07 11:37:21.160492 Cost: 1.1004  || Accuracy: 0.5036\n",
      "Epoch 16, CIFAR-10 Batch 4:  2017-03-07 11:37:22.531711 Cost: 1.3191  || Accuracy: 0.5114\n",
      "Epoch 16, CIFAR-10 Batch 5:  2017-03-07 11:37:23.909074 Cost: 1.3809  || Accuracy: 0.4916\n",
      "Epoch 17, CIFAR-10 Batch 1:  2017-03-07 11:37:25.280889 Cost: 1.4397  || Accuracy: 0.5054\n",
      "Epoch 17, CIFAR-10 Batch 2:  2017-03-07 11:37:26.655150 Cost: 1.1567  || Accuracy: 0.5120\n",
      "Epoch 17, CIFAR-10 Batch 3:  2017-03-07 11:37:28.025162 Cost: 1.0964  || Accuracy: 0.4938\n",
      "Epoch 17, CIFAR-10 Batch 4:  2017-03-07 11:37:29.401383 Cost: 1.3228  || Accuracy: 0.5032\n",
      "Epoch 17, CIFAR-10 Batch 5:  2017-03-07 11:37:30.771274 Cost: 1.3373  || Accuracy: 0.5040\n",
      "Epoch 18, CIFAR-10 Batch 1:  2017-03-07 11:37:32.141559 Cost: 1.4024  || Accuracy: 0.5054\n",
      "Epoch 18, CIFAR-10 Batch 2:  2017-03-07 11:37:33.515366 Cost: 1.1347  || Accuracy: 0.5084\n",
      "Epoch 18, CIFAR-10 Batch 3:  2017-03-07 11:37:34.892949 Cost: 1.0523  || Accuracy: 0.5096\n",
      "Epoch 18, CIFAR-10 Batch 4:  2017-03-07 11:37:36.267123 Cost: 1.3249  || Accuracy: 0.5110\n",
      "Epoch 18, CIFAR-10 Batch 5:  2017-03-07 11:37:37.642440 Cost: 1.3234  || Accuracy: 0.5032\n",
      "Epoch 19, CIFAR-10 Batch 1:  2017-03-07 11:37:39.011257 Cost: 1.3954  || Accuracy: 0.5096\n",
      "Epoch 19, CIFAR-10 Batch 2:  2017-03-07 11:37:40.383561 Cost: 1.1357  || Accuracy: 0.5140\n",
      "Epoch 19, CIFAR-10 Batch 3:  2017-03-07 11:37:41.760043 Cost: 1.0617  || Accuracy: 0.5082\n",
      "Epoch 19, CIFAR-10 Batch 4:  2017-03-07 11:37:43.130564 Cost: 1.3106  || Accuracy: 0.5120\n",
      "Epoch 19, CIFAR-10 Batch 5:  2017-03-07 11:37:44.501004 Cost: 1.3203  || Accuracy: 0.5068\n",
      "Epoch 20, CIFAR-10 Batch 1:  2017-03-07 11:37:45.873481 Cost: 1.3852  || Accuracy: 0.4988\n",
      "Epoch 20, CIFAR-10 Batch 2:  2017-03-07 11:37:47.244704 Cost: 1.1127  || Accuracy: 0.5102\n",
      "Epoch 20, CIFAR-10 Batch 3:  2017-03-07 11:37:48.617166 Cost: 1.0783  || Accuracy: 0.5016\n",
      "Epoch 20, CIFAR-10 Batch 4:  2017-03-07 11:37:49.987239 Cost: 1.2873  || Accuracy: 0.5136\n",
      "Epoch 20, CIFAR-10 Batch 5:  2017-03-07 11:37:51.356551 Cost: 1.3423  || Accuracy: 0.4976\n",
      "Epoch 21, CIFAR-10 Batch 1:  2017-03-07 11:37:52.729926 Cost: 1.3780  || Accuracy: 0.5074\n",
      "Epoch 21, CIFAR-10 Batch 2:  2017-03-07 11:37:54.105818 Cost: 1.1365  || Accuracy: 0.5114\n",
      "Epoch 21, CIFAR-10 Batch 3:  2017-03-07 11:37:55.479931 Cost: 1.0500  || Accuracy: 0.5112\n",
      "Epoch 21, CIFAR-10 Batch 4:  2017-03-07 11:37:56.856356 Cost: 1.2995  || Accuracy: 0.5138\n",
      "Epoch 21, CIFAR-10 Batch 5:  2017-03-07 11:37:58.229490 Cost: 1.3462  || Accuracy: 0.4986\n",
      "Epoch 22, CIFAR-10 Batch 1:  2017-03-07 11:37:59.605745 Cost: 1.3724  || Accuracy: 0.5068\n",
      "Epoch 22, CIFAR-10 Batch 2:  2017-03-07 11:38:00.978367 Cost: 1.1323  || Accuracy: 0.5112\n",
      "Epoch 22, CIFAR-10 Batch 3:  2017-03-07 11:38:02.352816 Cost: 1.0374  || Accuracy: 0.5106\n",
      "Epoch 22, CIFAR-10 Batch 4:  2017-03-07 11:38:03.717713 Cost: 1.2767  || Accuracy: 0.5164\n",
      "Epoch 22, CIFAR-10 Batch 5:  2017-03-07 11:38:05.088918 Cost: 1.2844  || Accuracy: 0.5114\n",
      "Epoch 23, CIFAR-10 Batch 1:  2017-03-07 11:38:06.467720 Cost: 1.3460  || Accuracy: 0.5042\n",
      "Epoch 23, CIFAR-10 Batch 2:  2017-03-07 11:38:07.841007 Cost: 1.1236  || Accuracy: 0.5130\n",
      "Epoch 23, CIFAR-10 Batch 3:  2017-03-07 11:38:09.213111 Cost: 1.0492  || Accuracy: 0.5152\n",
      "Epoch 23, CIFAR-10 Batch 4:  2017-03-07 11:38:10.584713 Cost: 1.2660  || Accuracy: 0.5094\n",
      "Epoch 23, CIFAR-10 Batch 5:  2017-03-07 11:38:11.954155 Cost: 1.2821  || Accuracy: 0.5070\n",
      "Epoch 24, CIFAR-10 Batch 1:  2017-03-07 11:38:13.328217 Cost: 1.3075  || Accuracy: 0.5112\n",
      "Epoch 24, CIFAR-10 Batch 2:  2017-03-07 11:38:14.693666 Cost: 1.1125  || Accuracy: 0.5156\n",
      "Epoch 24, CIFAR-10 Batch 3:  2017-03-07 11:38:16.060327 Cost: 1.0477  || Accuracy: 0.5128\n",
      "Epoch 24, CIFAR-10 Batch 4:  2017-03-07 11:38:17.436526 Cost: 1.2403  || Accuracy: 0.5154\n",
      "Epoch 24, CIFAR-10 Batch 5:  2017-03-07 11:38:18.812171 Cost: 1.2565  || Accuracy: 0.5118\n",
      "Epoch 25, CIFAR-10 Batch 1:  2017-03-07 11:38:20.185018 Cost: 1.3019  || Accuracy: 0.5080\n",
      "Epoch 25, CIFAR-10 Batch 2:  2017-03-07 11:38:21.563270 Cost: 1.0984  || Accuracy: 0.5156\n",
      "Epoch 25, CIFAR-10 Batch 3:  2017-03-07 11:38:22.930099 Cost: 1.0505  || Accuracy: 0.5156\n",
      "Epoch 25, CIFAR-10 Batch 4:  2017-03-07 11:38:24.299072 Cost: 1.2278  || Accuracy: 0.5116\n",
      "Epoch 25, CIFAR-10 Batch 5:  2017-03-07 11:38:25.661208 Cost: 1.2708  || Accuracy: 0.5062\n",
      "Epoch 26, CIFAR-10 Batch 1:  2017-03-07 11:38:27.033549 Cost: 1.3185  || Accuracy: 0.5106\n",
      "Epoch 26, CIFAR-10 Batch 2:  2017-03-07 11:38:28.405525 Cost: 1.0915  || Accuracy: 0.5138\n",
      "Epoch 26, CIFAR-10 Batch 3:  2017-03-07 11:38:29.781302 Cost: 1.0399  || Accuracy: 0.5196\n",
      "Epoch 26, CIFAR-10 Batch 4:  2017-03-07 11:38:31.156703 Cost: 1.2284  || Accuracy: 0.5140\n",
      "Epoch 26, CIFAR-10 Batch 5:  2017-03-07 11:38:32.529864 Cost: 1.2580  || Accuracy: 0.5100\n",
      "Epoch 27, CIFAR-10 Batch 1:  2017-03-07 11:38:33.902126 Cost: 1.2873  || Accuracy: 0.5138\n",
      "Epoch 27, CIFAR-10 Batch 2:  2017-03-07 11:38:35.275170 Cost: 1.0855  || Accuracy: 0.5162\n",
      "Epoch 27, CIFAR-10 Batch 3:  2017-03-07 11:38:36.648802 Cost: 1.0157  || Accuracy: 0.5128\n",
      "Epoch 27, CIFAR-10 Batch 4:  2017-03-07 11:38:38.016480 Cost: 1.2153  || Accuracy: 0.5152\n",
      "Epoch 27, CIFAR-10 Batch 5:  2017-03-07 11:38:39.389793 Cost: 1.2424  || Accuracy: 0.5128\n",
      "Epoch 28, CIFAR-10 Batch 1:  2017-03-07 11:38:40.764113 Cost: 1.2605  || Accuracy: 0.5150\n",
      "Epoch 28, CIFAR-10 Batch 2:  2017-03-07 11:38:42.137638 Cost: 1.0665  || Accuracy: 0.5164\n",
      "Epoch 28, CIFAR-10 Batch 3:  2017-03-07 11:38:43.507873 Cost: 1.0020  || Accuracy: 0.5254\n",
      "Epoch 28, CIFAR-10 Batch 4:  2017-03-07 11:38:44.884043 Cost: 1.2067  || Accuracy: 0.5182\n",
      "Epoch 28, CIFAR-10 Batch 5:  2017-03-07 11:38:46.260310 Cost: 1.2305  || Accuracy: 0.5110\n",
      "Epoch 29, CIFAR-10 Batch 1:  2017-03-07 11:38:47.631304 Cost: 1.2412  || Accuracy: 0.5196\n",
      "Epoch 29, CIFAR-10 Batch 2:  2017-03-07 11:38:49.000612 Cost: 1.0725  || Accuracy: 0.5182\n",
      "Epoch 29, CIFAR-10 Batch 3:  2017-03-07 11:38:50.371921 Cost: 1.0039  || Accuracy: 0.5210\n",
      "Epoch 29, CIFAR-10 Batch 4:  2017-03-07 11:38:51.745159 Cost: 1.2007  || Accuracy: 0.5166\n",
      "Epoch 29, CIFAR-10 Batch 5:  2017-03-07 11:38:53.118833 Cost: 1.2880  || Accuracy: 0.5096\n",
      "Epoch 30, CIFAR-10 Batch 1:  2017-03-07 11:38:54.492532 Cost: 1.2479  || Accuracy: 0.5170\n",
      "Epoch 30, CIFAR-10 Batch 2:  2017-03-07 11:38:55.866551 Cost: 1.0726  || Accuracy: 0.5222\n",
      "Epoch 30, CIFAR-10 Batch 3:  2017-03-07 11:38:57.241057 Cost: 0.9797  || Accuracy: 0.5222\n",
      "Epoch 30, CIFAR-10 Batch 4:  2017-03-07 11:38:58.615313 Cost: 1.1851  || Accuracy: 0.5150\n",
      "Epoch 30, CIFAR-10 Batch 5:  2017-03-07 11:38:59.993675 Cost: 1.2176  || Accuracy: 0.5144\n"
     ]
    }
   ],
   "source": [
    "\"\"\"\n",
    "DON'T MODIFY ANYTHING IN THIS CELL\n",
    "\"\"\"\n",
    "save_model_path = './image_classification'\n",
    "\n",
    "print('Training...')\n",
    "with tf.Session() as sess:\n",
    "    # Initializing the variables\n",
    "    sess.run(tf.global_variables_initializer())\n",
    "    \n",
    "    # Training cycle\n",
    "    for epoch in range(epochs):\n",
    "        # Loop over all batches\n",
    "        n_batches = 5\n",
    "        for batch_i in range(1, n_batches + 1):\n",
    "            for batch_features, batch_labels in helper.load_preprocess_training_batch(batch_i, batch_size):\n",
    "                train_neural_network(sess, optimizer, keep_probability, batch_features, batch_labels)\n",
    "            print('Epoch {:>2}, CIFAR-10 Batch {}:  '.format(epoch + 1, batch_i), end='')\n",
    "            print_stats(sess, batch_features, batch_labels, cost, accuracy)\n",
    "            \n",
    "    # Save Model\n",
    "    saver = tf.train.Saver()\n",
    "    save_path = saver.save(sess, save_model_path)"
   ]
  },
  {
   "cell_type": "markdown",
   "metadata": {
    "deletable": true,
    "editable": true
   },
   "source": [
    "# Checkpoint\n",
    "The model has been saved to disk.\n",
    "## Test Model\n",
    "Test your model against the test dataset.  This will be your final accuracy. You should have an accuracy greater than 50%. If you don't, keep tweaking the model architecture and parameters."
   ]
  },
  {
   "cell_type": "code",
   "execution_count": 516,
   "metadata": {
    "collapsed": false,
    "deletable": true,
    "editable": true
   },
   "outputs": [
    {
     "name": "stdout",
     "output_type": "stream",
     "text": [
      "Testing Accuracy: 0.522745253164557\n",
      "\n"
     ]
    },
    {
     "data": {
      "image/png": "[encoded data removed]",
      "text/plain": [
       "<matplotlib.figure.Figure at 0x7f35d05d8320>"
      ]
     },
     "metadata": {
      "image/png": {
       "height": 319,
       "width": 355
      }
     },
     "output_type": "display_data"
    }
   ],
   "source": [
    "\"\"\"\n",
    "DON'T MODIFY ANYTHING IN THIS CELL\n",
    "\"\"\"\n",
    "%matplotlib inline\n",
    "%config InlineBackend.figure_format = 'retina'\n",
    "\n",
    "import tensorflow as tf\n",
    "import pickle\n",
    "import helper\n",
    "import random\n",
    "\n",
    "# Set batch size if not already set\n",
    "try:\n",
    "    if batch_size:\n",
    "        pass\n",
    "except NameError:\n",
    "    batch_size = 64\n",
    "\n",
    "save_model_path = './image_classification'\n",
    "n_samples = 4\n",
    "top_n_predictions = 3\n",
    "\n",
    "def test_model():\n",
    "    \"\"\"\n",
    "    Test the saved model against the test dataset\n",
    "    \"\"\"\n",
    "\n",
    "    test_features, test_labels = pickle.load(open('preprocess_training.p', mode='rb'))\n",
    "    loaded_graph = tf.Graph()\n",
    "\n",
    "    with tf.Session(graph=loaded_graph) as sess:\n",
    "        # Load model\n",
    "        loader = tf.train.import_meta_graph(save_model_path + '.meta')\n",
    "        loader.restore(sess, save_model_path)\n",
    "\n",
    "        # Get Tensors from loaded model\n",
    "        loaded_x = loaded_graph.get_tensor_by_name('x:0')\n",
    "        loaded_y = loaded_graph.get_tensor_by_name('y:0')\n",
    "        loaded_keep_prob = loaded_graph.get_tensor_by_name('keep_prob:0')\n",
    "        loaded_logits = loaded_graph.get_tensor_by_name('logits:0')\n",
    "        loaded_acc = loaded_graph.get_tensor_by_name('accuracy:0')\n",
    "        \n",
    "        # Get accuracy in batches for memory limitations\n",
    "        test_batch_acc_total = 0\n",
    "        test_batch_count = 0\n",
    "        \n",
    "        for train_feature_batch, train_label_batch in helper.batch_features_labels(test_features, test_labels, batch_size):\n",
    "            test_batch_acc_total += sess.run(\n",
    "                loaded_acc,\n",
    "                feed_dict={loaded_x: train_feature_batch, loaded_y: train_label_batch, loaded_keep_prob: 1.0})\n",
    "            test_batch_count += 1\n",
    "\n",
    "        print('Testing Accuracy: {}\\n'.format(test_batch_acc_total/test_batch_count))\n",
    "\n",
    "        # Print Random Samples\n",
    "        random_test_features, random_test_labels = tuple(zip(*random.sample(list(zip(test_features, test_labels)), n_samples)))\n",
    "        random_test_predictions = sess.run(\n",
    "            tf.nn.top_k(tf.nn.softmax(loaded_logits), top_n_predictions),\n",
    "            feed_dict={loaded_x: random_test_features, loaded_y: random_test_labels, loaded_keep_prob: 1.0})\n",
    "        helper.display_image_predictions(random_test_features, random_test_labels, random_test_predictions)\n",
    "\n",
    "\n",
    "test_model()"
   ]
  },
  {
   "cell_type": "markdown",
   "metadata": {
    "deletable": true,
    "editable": true
   },
   "source": [
    "## Why 50-70% Accuracy?\n",
    "You might be wondering why you can't get an accuracy any higher. First things first, 50% isn't bad for a simple CNN.  Pure guessing would get you 10% accuracy. However, you might notice people are getting scores [well above 70%](http://rodrigob.github.io/are_we_there_yet/build/classification_datasets_results.html#43494641522d3130).  That's because we haven't taught you all there is to know about neural networks. We still need to cover a few more techniques.\n",
    "## Submitting This Project\n",
    "When submitting this project, make sure to run all the cells before saving the notebook.  Save the notebook file as \"dlnd_image_classification.ipynb\" and save it as a HTML file under \"File\" -> \"Download as\".  Include the \"helper.py\" and \"problem_unittests.py\" files in your submission."
   ]
  },
  {
   "cell_type": "code",
   "execution_count": null,
   "metadata": {
    "collapsed": true,
    "deletable": true,
    "editable": true
   },
   "outputs": [],
   "source": []
  }
 ],
 "metadata": {
  "kernelspec": {
   "display_name": "Python 3",
   "language": "python",
   "name": "python3"
  },
  "language_info": {
   "codemirror_mode": {
    "name": "ipython",
    "version": 3
   },
   "file_extension": ".py",
   "mimetype": "text/x-python",
   "name": "python",
   "nbconvert_exporter": "python",
   "pygments_lexer": "ipython3",
   "version": "3.5.2"
  },
  "widgets": {
   "state": {},
   "version": "1.1.2"
  }
 },
 "nbformat": 4,
 "nbformat_minor": 0
}
